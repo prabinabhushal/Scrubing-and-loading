{
 "cells": [
  {
   "cell_type": "raw",
   "id": "1427284d",
   "metadata": {
    "vscode": {
     "languageId": "raw"
    }
   },
   "source": [
    "\n",
    "Load the given JSON into pyspark data-frame\n",
    "Remove name, description and expiration date\n",
    "Remove hyphen from billing code, negotiation arrangements . Ex: 11111-222 must be 1111122\n",
    "Remove $ from negotiated rate\n",
    "Use hashing for service code column\n",
    "Remove the row if 'billing_code' is null\n",
    "Replace all the null values in billing_class to ‘I’\n",
    "Rename all the column as given. billing_class>>bCls  , billing_code>>bC, billing_code_type>> bCT , negotiated_rate>> negR, negotiated_type>> negT, negotiation_arrangements>> negA, service_code>> poSH\n",
    "Add a whole new column named billing_code_modifier and rename it to 'mdH'\n",
    "Use default value 1426636 for mdH and hash the mdH column.\n",
    "Also write that dataframe into parquet using coalesce (1).\n"
   ]
  },
  {
   "cell_type": "markdown",
   "id": "b18747dc",
   "metadata": {},
   "source": [
    "# Load the given JSON into pyspark data-frame"
   ]
  },
  {
   "cell_type": "code",
   "execution_count": 1,
   "id": "c04a6bff",
   "metadata": {},
   "outputs": [],
   "source": [
    "from pyspark.sql import SparkSession"
   ]
  },
  {
   "cell_type": "code",
   "execution_count": 2,
   "id": "f44ba7cb",
   "metadata": {},
   "outputs": [
    {
     "name": "stderr",
     "output_type": "stream",
     "text": [
      "25/04/22 12:45:23 WARN Utils: Your hostname, prabina-bhushal resolves to a loopback address: 127.0.1.1; using 192.168.1.191 instead (on interface wlx54ef33f6c819)\n",
      "25/04/22 12:45:23 WARN Utils: Set SPARK_LOCAL_IP if you need to bind to another address\n",
      "Setting default log level to \"WARN\".\n",
      "To adjust logging level use sc.setLogLevel(newLevel). For SparkR, use setLogLevel(newLevel).\n",
      "25/04/22 12:45:34 WARN NativeCodeLoader: Unable to load native-hadoop library for your platform... using builtin-java classes where applicable\n"
     ]
    }
   ],
   "source": [
    "spark= SparkSession.builder.appName(\"Q2JSON\").getOrCreate()\n"
   ]
  },
  {
   "cell_type": "code",
   "execution_count": 3,
   "id": "a1a99727",
   "metadata": {},
   "outputs": [
    {
     "data": {
      "text/html": [
       "\n",
       "            <div>\n",
       "                <p><b>SparkSession - in-memory</b></p>\n",
       "                \n",
       "        <div>\n",
       "            <p><b>SparkContext</b></p>\n",
       "\n",
       "            <p><a href=\"http://192.168.1.191:4040\">Spark UI</a></p>\n",
       "\n",
       "            <dl>\n",
       "              <dt>Version</dt>\n",
       "                <dd><code>v3.5.5</code></dd>\n",
       "              <dt>Master</dt>\n",
       "                <dd><code>local[*]</code></dd>\n",
       "              <dt>AppName</dt>\n",
       "                <dd><code>Q2JSON</code></dd>\n",
       "            </dl>\n",
       "        </div>\n",
       "        \n",
       "            </div>\n",
       "        "
      ],
      "text/plain": [
       "<pyspark.sql.session.SparkSession at 0x72254bfb0ca0>"
      ]
     },
     "execution_count": 3,
     "metadata": {},
     "output_type": "execute_result"
    }
   ],
   "source": [
    "spark"
   ]
  },
  {
   "cell_type": "code",
   "execution_count": 19,
   "id": "54b826f8",
   "metadata": {},
   "outputs": [
    {
     "name": "stdout",
     "output_type": "stream",
     "text": [
      "+--------------------+-------------+-----------------+-------------+--------------------+---------------+---------------+---------------+-----------------------+------------+\n",
      "|     _corrupt_record|billing_class|billing_code_type|billing_codee|         description|expiration_date|negotiated_rate|negotiated_type|negotiation_arrangement|service_code|\n",
      "+--------------------+-------------+-----------------+-------------+--------------------+---------------+---------------+---------------+-----------------------+------------+\n",
      "|[{\"billing_class\"...|         NULL|             NULL|         NULL|                NULL|           NULL|           NULL|           NULL|                   NULL|        NULL|\n",
      "|                NULL|          NVA|             NULL|   54868-6381|Occup of pk-up/va...|     2023/10/27|          $1.89|             CO|             49288-0290|          ID|\n",
      "|                NULL|          JEQ|             SNJK|    55315-329|Posterior subluxa...|     2023/03/22|          $6.07|             BR|              10544-105|          CN|\n",
      "|                NULL|          SSO|             SNLO|    13537-015|Scarlet fever, un...|     2023/12/10|          $4.78|             BR|              53489-536|          CN|\n",
      "|                NULL|          CKR|             NULL|    42508-138|Unsp injury of un...|     2023/04/19|          $4.35|             US|              59572-425|          CL|\n",
      "|                NULL|          CXH|             CYHC|    52533-120|Other disorders o...|     2023/03/12|          $1.35|             CA|              41250-871|          ID|\n",
      "|                NULL|          KTT|             EFKT|    36800-952|Cloacal extrophy ...|     2023/05/29|          $7.52|             FI|              59886-410|          CN|\n",
      "|                NULL|         NULL|             NULL|    11344-999|Hypertrophy of bo...|     2023/04/05|          $2.94|             JP|              76509-151|          CN|\n",
      "|                NULL|          DAL|             NULL|   36987-1207|Oth osteoporosis ...|     2023/03/07|          $4.07|           NULL|              11410-020|          FR|\n",
      "|                NULL|          GDA|             NULL|    76138-106|Disp fx of head o...|     2023/12/29|          $9.05|             CF|              65954-538|          BF|\n",
      "|                NULL|          AEX|             KAEX|    53329-809|Unsp fx upr end r...|     2023/04/15|          $3.61|             US|              50991-216|          JP|\n",
      "|                NULL|         NULL|             SPHI|    0496-0760|Unspecified injur...|     2023/07/25|          $4.79|             PE|              49884-641|          PL|\n",
      "|                NULL|          DUQ|             CAM3|    43063-345|Path fracture, un...|     2023/03/19|          $8.60|             CA|              21695-522|          UA|\n",
      "|                NULL|          YVV|             CYVV|    0245-0213|Crushing injury o...|     2023/12/06|          $3.39|             CA|              30142-960|          RU|\n",
      "|                NULL|          PCA|             PAOC|    52125-568|Intentional colli...|     2023/07/21|          $3.09|             US|             53808-0685|          CN|\n",
      "|                NULL|          GRV|             NULL|   57913-2869|Nondisp oblique f...|     2023/04/30|          $1.83|             RU|             49288-0861|          CA|\n",
      "|                NULL|         NULL|             MWCR|    64117-987|Osteomyelitis, un...|     2023/08/19|          $1.20|             KY|              52773-240|          FR|\n",
      "|                NULL|          TJA|             SLTJ|   61958-0901|Nondisp fx of lat...|     2023/12/28|          $6.32|             BO|              49999-120|          CN|\n",
      "|                NULL|          EML|             LSME|    11673-977|Staphylococcal ar...|     2023/03/16|          $5.68|             CH|             36987-1711|          ID|\n",
      "|                NULL|          PLF|             FTTP|    0029-1527|Unspecified physe...|     2023/02/17|          $3.72|             TD|              51346-173|          MA|\n",
      "+--------------------+-------------+-----------------+-------------+--------------------+---------------+---------------+---------------+-----------------------+------------+\n",
      "only showing top 20 rows\n",
      "\n"
     ]
    }
   ],
   "source": [
    "df_pyspark = spark.read.option('header','option').option('inferSchema','true').json('MOCK_DATA.json')\n",
    "df_pyspark.show()"
   ]
  },
  {
   "cell_type": "code",
   "execution_count": 20,
   "id": "2752dba0",
   "metadata": {},
   "outputs": [
    {
     "name": "stdout",
     "output_type": "stream",
     "text": [
      "<class 'pyspark.sql.dataframe.DataFrame'>\n"
     ]
    }
   ],
   "source": [
    "print(type(df_pyspark))"
   ]
  },
  {
   "cell_type": "markdown",
   "id": "899bcb77",
   "metadata": {},
   "source": [
    "# Remove name, description and expiration date"
   ]
  },
  {
   "cell_type": "code",
   "execution_count": 21,
   "id": "3f44155b",
   "metadata": {},
   "outputs": [
    {
     "name": "stdout",
     "output_type": "stream",
     "text": [
      "+--------------------+-------------+-----------------+-------------+---------------+---------------+-----------------------+------------+\n",
      "|     _corrupt_record|billing_class|billing_code_type|billing_codee|negotiated_rate|negotiated_type|negotiation_arrangement|service_code|\n",
      "+--------------------+-------------+-----------------+-------------+---------------+---------------+-----------------------+------------+\n",
      "|[{\"billing_class\"...|         NULL|             NULL|         NULL|           NULL|           NULL|                   NULL|        NULL|\n",
      "|                NULL|          NVA|             NULL|   54868-6381|          $1.89|             CO|             49288-0290|          ID|\n",
      "|                NULL|          JEQ|             SNJK|    55315-329|          $6.07|             BR|              10544-105|          CN|\n",
      "|                NULL|          SSO|             SNLO|    13537-015|          $4.78|             BR|              53489-536|          CN|\n",
      "|                NULL|          CKR|             NULL|    42508-138|          $4.35|             US|              59572-425|          CL|\n",
      "|                NULL|          CXH|             CYHC|    52533-120|          $1.35|             CA|              41250-871|          ID|\n",
      "|                NULL|          KTT|             EFKT|    36800-952|          $7.52|             FI|              59886-410|          CN|\n",
      "|                NULL|         NULL|             NULL|    11344-999|          $2.94|             JP|              76509-151|          CN|\n",
      "|                NULL|          DAL|             NULL|   36987-1207|          $4.07|           NULL|              11410-020|          FR|\n",
      "|                NULL|          GDA|             NULL|    76138-106|          $9.05|             CF|              65954-538|          BF|\n",
      "|                NULL|          AEX|             KAEX|    53329-809|          $3.61|             US|              50991-216|          JP|\n",
      "|                NULL|         NULL|             SPHI|    0496-0760|          $4.79|             PE|              49884-641|          PL|\n",
      "|                NULL|          DUQ|             CAM3|    43063-345|          $8.60|             CA|              21695-522|          UA|\n",
      "|                NULL|          YVV|             CYVV|    0245-0213|          $3.39|             CA|              30142-960|          RU|\n",
      "|                NULL|          PCA|             PAOC|    52125-568|          $3.09|             US|             53808-0685|          CN|\n",
      "|                NULL|          GRV|             NULL|   57913-2869|          $1.83|             RU|             49288-0861|          CA|\n",
      "|                NULL|         NULL|             MWCR|    64117-987|          $1.20|             KY|              52773-240|          FR|\n",
      "|                NULL|          TJA|             SLTJ|   61958-0901|          $6.32|             BO|              49999-120|          CN|\n",
      "|                NULL|          EML|             LSME|    11673-977|          $5.68|             CH|             36987-1711|          ID|\n",
      "|                NULL|          PLF|             FTTP|    0029-1527|          $3.72|             TD|              51346-173|          MA|\n",
      "+--------------------+-------------+-----------------+-------------+---------------+---------------+-----------------------+------------+\n",
      "only showing top 20 rows\n",
      "\n"
     ]
    }
   ],
   "source": [
    "df_pyspark = df_pyspark.drop('name','description','expiration_date')\n",
    "df_pyspark.show()"
   ]
  },
  {
   "cell_type": "markdown",
   "id": "519c989f",
   "metadata": {},
   "source": [
    "# Remove hyphen from billing code, negotiation arrangements and $ from negotiated rate"
   ]
  },
  {
   "cell_type": "code",
   "execution_count": 22,
   "id": "8c6d020a",
   "metadata": {},
   "outputs": [
    {
     "name": "stdout",
     "output_type": "stream",
     "text": [
      "+--------------------+-------------+-----------------+-------------+---------------+---------------+-----------------------+------------+\n",
      "|     _corrupt_record|billing_class|billing_code_type|billing_codee|negotiated_rate|negotiated_type|negotiation_arrangement|service_code|\n",
      "+--------------------+-------------+-----------------+-------------+---------------+---------------+-----------------------+------------+\n",
      "|[{\"billing_class\"...|         NULL|             NULL|         NULL|           NULL|           NULL|                   NULL|        NULL|\n",
      "|                NULL|          NVA|             NULL|    548686381|          $1.89|             CO|              492880290|          ID|\n",
      "|                NULL|          JEQ|             SNJK|     55315329|          $6.07|             BR|               10544105|          CN|\n",
      "|                NULL|          SSO|             SNLO|     13537015|          $4.78|             BR|               53489536|          CN|\n",
      "|                NULL|          CKR|             NULL|     42508138|          $4.35|             US|               59572425|          CL|\n",
      "|                NULL|          CXH|             CYHC|     52533120|          $1.35|             CA|               41250871|          ID|\n",
      "|                NULL|          KTT|             EFKT|     36800952|          $7.52|             FI|               59886410|          CN|\n",
      "|                NULL|         NULL|             NULL|     11344999|          $2.94|             JP|               76509151|          CN|\n",
      "|                NULL|          DAL|             NULL|    369871207|          $4.07|           NULL|               11410020|          FR|\n",
      "|                NULL|          GDA|             NULL|     76138106|          $9.05|             CF|               65954538|          BF|\n",
      "|                NULL|          AEX|             KAEX|     53329809|          $3.61|             US|               50991216|          JP|\n",
      "|                NULL|         NULL|             SPHI|     04960760|          $4.79|             PE|               49884641|          PL|\n",
      "|                NULL|          DUQ|             CAM3|     43063345|          $8.60|             CA|               21695522|          UA|\n",
      "|                NULL|          YVV|             CYVV|     02450213|          $3.39|             CA|               30142960|          RU|\n",
      "|                NULL|          PCA|             PAOC|     52125568|          $3.09|             US|              538080685|          CN|\n",
      "|                NULL|          GRV|             NULL|    579132869|          $1.83|             RU|              492880861|          CA|\n",
      "|                NULL|         NULL|             MWCR|     64117987|          $1.20|             KY|               52773240|          FR|\n",
      "|                NULL|          TJA|             SLTJ|    619580901|          $6.32|             BO|               49999120|          CN|\n",
      "|                NULL|          EML|             LSME|     11673977|          $5.68|             CH|              369871711|          ID|\n",
      "|                NULL|          PLF|             FTTP|     00291527|          $3.72|             TD|               51346173|          MA|\n",
      "+--------------------+-------------+-----------------+-------------+---------------+---------------+-----------------------+------------+\n",
      "only showing top 20 rows\n",
      "\n"
     ]
    }
   ],
   "source": [
    "from pyspark.sql.functions import expr,hash,lit\n",
    "\n",
    "df_cleaned = df_pyspark.withColumn(\"billing_codee\",expr(\"REPLACE(billing_codee,'-','')\"))\\\n",
    "                .withColumn(\"negotiation_arrangement\",expr(\"REPLACE(negotiation_arrangement,'-','')\"))\n",
    "\n",
    "df_cleaned.show()"
   ]
  },
  {
   "cell_type": "markdown",
   "id": "7cd01be8",
   "metadata": {},
   "source": [
    "# Remove $ from negotiated rate"
   ]
  },
  {
   "cell_type": "code",
   "execution_count": 25,
   "id": "c384c946",
   "metadata": {},
   "outputs": [
    {
     "name": "stdout",
     "output_type": "stream",
     "text": [
      "+--------------------+-------------+-----------------+-------------+---------------+---------------+-----------------------+------------+\n",
      "|     _corrupt_record|billing_class|billing_code_type|billing_codee|negotiated_rate|negotiated_type|negotiation_arrangement|service_code|\n",
      "+--------------------+-------------+-----------------+-------------+---------------+---------------+-----------------------+------------+\n",
      "|[{\"billing_class\"...|         NULL|             NULL|         NULL|           NULL|           NULL|                   NULL|        NULL|\n",
      "|                NULL|          NVA|             NULL|    548686381|           1.89|             CO|              492880290|          ID|\n",
      "|                NULL|          JEQ|             SNJK|     55315329|           6.07|             BR|               10544105|          CN|\n",
      "|                NULL|          SSO|             SNLO|     13537015|           4.78|             BR|               53489536|          CN|\n",
      "|                NULL|          CKR|             NULL|     42508138|           4.35|             US|               59572425|          CL|\n",
      "|                NULL|          CXH|             CYHC|     52533120|           1.35|             CA|               41250871|          ID|\n",
      "|                NULL|          KTT|             EFKT|     36800952|           7.52|             FI|               59886410|          CN|\n",
      "|                NULL|         NULL|             NULL|     11344999|           2.94|             JP|               76509151|          CN|\n",
      "|                NULL|          DAL|             NULL|    369871207|           4.07|           NULL|               11410020|          FR|\n",
      "|                NULL|          GDA|             NULL|     76138106|           9.05|             CF|               65954538|          BF|\n",
      "|                NULL|          AEX|             KAEX|     53329809|           3.61|             US|               50991216|          JP|\n",
      "|                NULL|         NULL|             SPHI|     04960760|           4.79|             PE|               49884641|          PL|\n",
      "|                NULL|          DUQ|             CAM3|     43063345|           8.60|             CA|               21695522|          UA|\n",
      "|                NULL|          YVV|             CYVV|     02450213|           3.39|             CA|               30142960|          RU|\n",
      "|                NULL|          PCA|             PAOC|     52125568|           3.09|             US|              538080685|          CN|\n",
      "|                NULL|          GRV|             NULL|    579132869|           1.83|             RU|              492880861|          CA|\n",
      "|                NULL|         NULL|             MWCR|     64117987|           1.20|             KY|               52773240|          FR|\n",
      "|                NULL|          TJA|             SLTJ|    619580901|           6.32|             BO|               49999120|          CN|\n",
      "|                NULL|          EML|             LSME|     11673977|           5.68|             CH|              369871711|          ID|\n",
      "|                NULL|          PLF|             FTTP|     00291527|           3.72|             TD|               51346173|          MA|\n",
      "+--------------------+-------------+-----------------+-------------+---------------+---------------+-----------------------+------------+\n",
      "only showing top 20 rows\n",
      "\n"
     ]
    }
   ],
   "source": [
    "df_replaced=df_cleaned.withColumn(\"negotiated_rate\",expr(\"REPLACE(negotiated_rate,'$','')\"))\n",
    "df_replaced.show()"
   ]
  },
  {
   "cell_type": "markdown",
   "id": "e3c22980",
   "metadata": {},
   "source": [
    "# Use hashing for service code column"
   ]
  },
  {
   "cell_type": "code",
   "execution_count": 26,
   "id": "218248b8",
   "metadata": {},
   "outputs": [
    {
     "name": "stdout",
     "output_type": "stream",
     "text": [
      "+--------------------+-------------+-----------------+-------------+---------------+---------------+-----------------------+------------+\n",
      "|     _corrupt_record|billing_class|billing_code_type|billing_codee|negotiated_rate|negotiated_type|negotiation_arrangement|service_code|\n",
      "+--------------------+-------------+-----------------+-------------+---------------+---------------+-----------------------+------------+\n",
      "|[{\"billing_class\"...|         NULL|             NULL|         NULL|           NULL|           NULL|                   NULL|          42|\n",
      "|                NULL|          NVA|             NULL|    548686381|           1.89|             CO|              492880290|  -214147340|\n",
      "|                NULL|          JEQ|             SNJK|     55315329|           6.07|             BR|               10544105|   446854828|\n",
      "|                NULL|          SSO|             SNLO|     13537015|           4.78|             BR|               53489536|   446854828|\n",
      "|                NULL|          CKR|             NULL|     42508138|           4.35|             US|               59572425|   519803259|\n",
      "|                NULL|          CXH|             CYHC|     52533120|           1.35|             CA|               41250871|  -214147340|\n",
      "|                NULL|          KTT|             EFKT|     36800952|           7.52|             FI|               59886410|   446854828|\n",
      "|                NULL|         NULL|             NULL|     11344999|           2.94|             JP|               76509151|   446854828|\n",
      "|                NULL|          DAL|             NULL|    369871207|           4.07|           NULL|               11410020|  1062621904|\n",
      "|                NULL|          GDA|             NULL|     76138106|           9.05|             CF|               65954538|  1817792724|\n",
      "|                NULL|          AEX|             KAEX|     53329809|           3.61|             US|               50991216|   175481947|\n",
      "|                NULL|         NULL|             SPHI|     04960760|           4.79|             PE|               49884641| -1524333386|\n",
      "|                NULL|          DUQ|             CAM3|     43063345|           8.60|             CA|               21695522|     2450805|\n",
      "|                NULL|          YVV|             CYVV|     02450213|           3.39|             CA|               30142960|  -172246165|\n",
      "|                NULL|          PCA|             PAOC|     52125568|           3.09|             US|              538080685|   446854828|\n",
      "|                NULL|          GRV|             NULL|    579132869|           1.83|             RU|              492880861|  1886535265|\n",
      "|                NULL|         NULL|             MWCR|     64117987|           1.20|             KY|               52773240|  1062621904|\n",
      "|                NULL|          TJA|             SLTJ|    619580901|           6.32|             BO|               49999120|   446854828|\n",
      "|                NULL|          EML|             LSME|     11673977|           5.68|             CH|              369871711|  -214147340|\n",
      "|                NULL|          PLF|             FTTP|     00291527|           3.72|             TD|               51346173|  1210295967|\n",
      "+--------------------+-------------+-----------------+-------------+---------------+---------------+-----------------------+------------+\n",
      "only showing top 20 rows\n",
      "\n"
     ]
    }
   ],
   "source": [
    "df_hash=df_replaced.withColumn('service_code',hash('service_code'))\n",
    "df_hash.show()"
   ]
  },
  {
   "cell_type": "markdown",
   "id": "13307e81",
   "metadata": {},
   "source": [
    "# Remove the row if 'billing_code' is null"
   ]
  },
  {
   "cell_type": "code",
   "execution_count": 27,
   "id": "6d8716fb",
   "metadata": {},
   "outputs": [
    {
     "name": "stdout",
     "output_type": "stream",
     "text": [
      "+---------------+-------------+-----------------+-------------+---------------+---------------+-----------------------+------------+\n",
      "|_corrupt_record|billing_class|billing_code_type|billing_codee|negotiated_rate|negotiated_type|negotiation_arrangement|service_code|\n",
      "+---------------+-------------+-----------------+-------------+---------------+---------------+-----------------------+------------+\n",
      "|           NULL|          NVA|             NULL|    548686381|           1.89|             CO|              492880290|  -214147340|\n",
      "|           NULL|          JEQ|             SNJK|     55315329|           6.07|             BR|               10544105|   446854828|\n",
      "|           NULL|          SSO|             SNLO|     13537015|           4.78|             BR|               53489536|   446854828|\n",
      "|           NULL|          CKR|             NULL|     42508138|           4.35|             US|               59572425|   519803259|\n",
      "|           NULL|          CXH|             CYHC|     52533120|           1.35|             CA|               41250871|  -214147340|\n",
      "|           NULL|          KTT|             EFKT|     36800952|           7.52|             FI|               59886410|   446854828|\n",
      "|           NULL|         NULL|             NULL|     11344999|           2.94|             JP|               76509151|   446854828|\n",
      "|           NULL|          DAL|             NULL|    369871207|           4.07|           NULL|               11410020|  1062621904|\n",
      "|           NULL|          GDA|             NULL|     76138106|           9.05|             CF|               65954538|  1817792724|\n",
      "|           NULL|          AEX|             KAEX|     53329809|           3.61|             US|               50991216|   175481947|\n",
      "|           NULL|         NULL|             SPHI|     04960760|           4.79|             PE|               49884641| -1524333386|\n",
      "|           NULL|          DUQ|             CAM3|     43063345|           8.60|             CA|               21695522|     2450805|\n",
      "|           NULL|          YVV|             CYVV|     02450213|           3.39|             CA|               30142960|  -172246165|\n",
      "|           NULL|          PCA|             PAOC|     52125568|           3.09|             US|              538080685|   446854828|\n",
      "|           NULL|          GRV|             NULL|    579132869|           1.83|             RU|              492880861|  1886535265|\n",
      "|           NULL|         NULL|             MWCR|     64117987|           1.20|             KY|               52773240|  1062621904|\n",
      "|           NULL|          TJA|             SLTJ|    619580901|           6.32|             BO|               49999120|   446854828|\n",
      "|           NULL|          EML|             LSME|     11673977|           5.68|             CH|              369871711|  -214147340|\n",
      "|           NULL|          PLF|             FTTP|     00291527|           3.72|             TD|               51346173|  1210295967|\n",
      "|           NULL|          ZCL|             MMZC|    400460057|           8.01|             MX|              538080830|  -172246165|\n",
      "+---------------+-------------+-----------------+-------------+---------------+---------------+-----------------------+------------+\n",
      "only showing top 20 rows\n",
      "\n"
     ]
    }
   ],
   "source": [
    "df_result=df_hash.filter(df_hash.billing_codee.isNotNull())\n",
    "df_result.show()"
   ]
  },
  {
   "cell_type": "markdown",
   "id": "e6898a97",
   "metadata": {},
   "source": [
    "# Replace all the null values in billing_class to ‘I’"
   ]
  },
  {
   "cell_type": "code",
   "execution_count": 28,
   "id": "67ba71ae",
   "metadata": {},
   "outputs": [
    {
     "name": "stdout",
     "output_type": "stream",
     "text": [
      "+---------------+-------------+-----------------+-------------+---------------+---------------+-----------------------+------------+\n",
      "|_corrupt_record|billing_class|billing_code_type|billing_codee|negotiated_rate|negotiated_type|negotiation_arrangement|service_code|\n",
      "+---------------+-------------+-----------------+-------------+---------------+---------------+-----------------------+------------+\n",
      "|           NULL|          NVA|             NULL|    548686381|           1.89|             CO|              492880290|  -214147340|\n",
      "|           NULL|          JEQ|             SNJK|     55315329|           6.07|             BR|               10544105|   446854828|\n",
      "|           NULL|          SSO|             SNLO|     13537015|           4.78|             BR|               53489536|   446854828|\n",
      "|           NULL|          CKR|             NULL|     42508138|           4.35|             US|               59572425|   519803259|\n",
      "|           NULL|          CXH|             CYHC|     52533120|           1.35|             CA|               41250871|  -214147340|\n",
      "|           NULL|          KTT|             EFKT|     36800952|           7.52|             FI|               59886410|   446854828|\n",
      "|           NULL|            I|             NULL|     11344999|           2.94|             JP|               76509151|   446854828|\n",
      "|           NULL|          DAL|             NULL|    369871207|           4.07|           NULL|               11410020|  1062621904|\n",
      "|           NULL|          GDA|             NULL|     76138106|           9.05|             CF|               65954538|  1817792724|\n",
      "|           NULL|          AEX|             KAEX|     53329809|           3.61|             US|               50991216|   175481947|\n",
      "|           NULL|            I|             SPHI|     04960760|           4.79|             PE|               49884641| -1524333386|\n",
      "|           NULL|          DUQ|             CAM3|     43063345|           8.60|             CA|               21695522|     2450805|\n",
      "|           NULL|          YVV|             CYVV|     02450213|           3.39|             CA|               30142960|  -172246165|\n",
      "|           NULL|          PCA|             PAOC|     52125568|           3.09|             US|              538080685|   446854828|\n",
      "|           NULL|          GRV|             NULL|    579132869|           1.83|             RU|              492880861|  1886535265|\n",
      "|           NULL|            I|             MWCR|     64117987|           1.20|             KY|               52773240|  1062621904|\n",
      "|           NULL|          TJA|             SLTJ|    619580901|           6.32|             BO|               49999120|   446854828|\n",
      "|           NULL|          EML|             LSME|     11673977|           5.68|             CH|              369871711|  -214147340|\n",
      "|           NULL|          PLF|             FTTP|     00291527|           3.72|             TD|               51346173|  1210295967|\n",
      "|           NULL|          ZCL|             MMZC|    400460057|           8.01|             MX|              538080830|  -172246165|\n",
      "+---------------+-------------+-----------------+-------------+---------------+---------------+-----------------------+------------+\n",
      "only showing top 20 rows\n",
      "\n"
     ]
    }
   ],
   "source": [
    "df_filter=df_result.fillna({'billing_class':'I'})\n",
    "df_filter.show()"
   ]
  },
  {
   "cell_type": "markdown",
   "id": "40d0ffd8",
   "metadata": {},
   "source": [
    "# Rename all the column as given. billing_class>>bCls  , billing_code>>bC, billing_code_type>> bCT , negotiated_rate>> negR, negotiated_type>> negT, negotiation_arrangements>> negA, service_code>> poSH"
   ]
  },
  {
   "cell_type": "code",
   "execution_count": 29,
   "id": "a5d5e1ef",
   "metadata": {},
   "outputs": [
    {
     "name": "stdout",
     "output_type": "stream",
     "text": [
      "+---------------+----+----+---------+----+----+---------+-----------+\n",
      "|_corrupt_record|bcIs| bCT|       bC|negR|negT|     negA|       poSH|\n",
      "+---------------+----+----+---------+----+----+---------+-----------+\n",
      "|           NULL| NVA|NULL|548686381|1.89|  CO|492880290| -214147340|\n",
      "|           NULL| JEQ|SNJK| 55315329|6.07|  BR| 10544105|  446854828|\n",
      "|           NULL| SSO|SNLO| 13537015|4.78|  BR| 53489536|  446854828|\n",
      "|           NULL| CKR|NULL| 42508138|4.35|  US| 59572425|  519803259|\n",
      "|           NULL| CXH|CYHC| 52533120|1.35|  CA| 41250871| -214147340|\n",
      "|           NULL| KTT|EFKT| 36800952|7.52|  FI| 59886410|  446854828|\n",
      "|           NULL|   I|NULL| 11344999|2.94|  JP| 76509151|  446854828|\n",
      "|           NULL| DAL|NULL|369871207|4.07|NULL| 11410020| 1062621904|\n",
      "|           NULL| GDA|NULL| 76138106|9.05|  CF| 65954538| 1817792724|\n",
      "|           NULL| AEX|KAEX| 53329809|3.61|  US| 50991216|  175481947|\n",
      "|           NULL|   I|SPHI| 04960760|4.79|  PE| 49884641|-1524333386|\n",
      "|           NULL| DUQ|CAM3| 43063345|8.60|  CA| 21695522|    2450805|\n",
      "|           NULL| YVV|CYVV| 02450213|3.39|  CA| 30142960| -172246165|\n",
      "|           NULL| PCA|PAOC| 52125568|3.09|  US|538080685|  446854828|\n",
      "|           NULL| GRV|NULL|579132869|1.83|  RU|492880861| 1886535265|\n",
      "|           NULL|   I|MWCR| 64117987|1.20|  KY| 52773240| 1062621904|\n",
      "|           NULL| TJA|SLTJ|619580901|6.32|  BO| 49999120|  446854828|\n",
      "|           NULL| EML|LSME| 11673977|5.68|  CH|369871711| -214147340|\n",
      "|           NULL| PLF|FTTP| 00291527|3.72|  TD| 51346173| 1210295967|\n",
      "|           NULL| ZCL|MMZC|400460057|8.01|  MX|538080830| -172246165|\n",
      "+---------------+----+----+---------+----+----+---------+-----------+\n",
      "only showing top 20 rows\n",
      "\n"
     ]
    }
   ],
   "source": [
    "df_renamed=df_filter.withColumnRenamed('billing_class','bcIs')\\\n",
    "            .withColumnRenamed('billing_codee','bC')\\\n",
    "            .withColumnRenamed('billing_code_type','bCT')\\\n",
    "            .withColumnRenamed('negotiated_rate','negR')\\\n",
    "            .withColumnRenamed('negotiated_type','negT')\\\n",
    "            .withColumnRenamed('negotiation_arrangement','negA')\\\n",
    "            .withColumnRenamed('service_code','poSH')\n",
    "df_renamed.show()"
   ]
  },
  {
   "cell_type": "markdown",
   "id": "c49c7f6b",
   "metadata": {},
   "source": [
    "# Add a whole new column named billing_code_modifier and rename it to 'mdH'"
   ]
  },
  {
   "cell_type": "code",
   "execution_count": 30,
   "id": "6c6b585e",
   "metadata": {},
   "outputs": [],
   "source": [
    "df_col=df_renamed.withColumn('billing_code_modifier',lit(1426636))\n",
    "df_col=df_col.withColumnRenamed('billing_code_modifier','mdH')"
   ]
  },
  {
   "cell_type": "markdown",
   "id": "6757b7fa",
   "metadata": {},
   "source": [
    "# Use default value 1426636 for mdH and hash the mdH column."
   ]
  },
  {
   "cell_type": "code",
   "execution_count": 33,
   "id": "6c163fc0",
   "metadata": {},
   "outputs": [
    {
     "name": "stdout",
     "output_type": "stream",
     "text": [
      "+---------------+----+----+---------+----+----+---------+-----------+---------+\n",
      "|_corrupt_record|bcIs| bCT|       bC|negR|negT|     negA|       poSH|      mdH|\n",
      "+---------------+----+----+---------+----+----+---------+-----------+---------+\n",
      "|           NULL| NVA|NULL|548686381|1.89|  CO|492880290| -214147340|678617635|\n",
      "|           NULL| JEQ|SNJK| 55315329|6.07|  BR| 10544105|  446854828|678617635|\n",
      "|           NULL| SSO|SNLO| 13537015|4.78|  BR| 53489536|  446854828|678617635|\n",
      "|           NULL| CKR|NULL| 42508138|4.35|  US| 59572425|  519803259|678617635|\n",
      "|           NULL| CXH|CYHC| 52533120|1.35|  CA| 41250871| -214147340|678617635|\n",
      "|           NULL| KTT|EFKT| 36800952|7.52|  FI| 59886410|  446854828|678617635|\n",
      "|           NULL|   I|NULL| 11344999|2.94|  JP| 76509151|  446854828|678617635|\n",
      "|           NULL| DAL|NULL|369871207|4.07|NULL| 11410020| 1062621904|678617635|\n",
      "|           NULL| GDA|NULL| 76138106|9.05|  CF| 65954538| 1817792724|678617635|\n",
      "|           NULL| AEX|KAEX| 53329809|3.61|  US| 50991216|  175481947|678617635|\n",
      "|           NULL|   I|SPHI| 04960760|4.79|  PE| 49884641|-1524333386|678617635|\n",
      "|           NULL| DUQ|CAM3| 43063345|8.60|  CA| 21695522|    2450805|678617635|\n",
      "|           NULL| YVV|CYVV| 02450213|3.39|  CA| 30142960| -172246165|678617635|\n",
      "|           NULL| PCA|PAOC| 52125568|3.09|  US|538080685|  446854828|678617635|\n",
      "|           NULL| GRV|NULL|579132869|1.83|  RU|492880861| 1886535265|678617635|\n",
      "|           NULL|   I|MWCR| 64117987|1.20|  KY| 52773240| 1062621904|678617635|\n",
      "|           NULL| TJA|SLTJ|619580901|6.32|  BO| 49999120|  446854828|678617635|\n",
      "|           NULL| EML|LSME| 11673977|5.68|  CH|369871711| -214147340|678617635|\n",
      "|           NULL| PLF|FTTP| 00291527|3.72|  TD| 51346173| 1210295967|678617635|\n",
      "|           NULL| ZCL|MMZC|400460057|8.01|  MX|538080830| -172246165|678617635|\n",
      "+---------------+----+----+---------+----+----+---------+-----------+---------+\n",
      "only showing top 20 rows\n",
      "\n"
     ]
    }
   ],
   "source": [
    "df_final=df_col.withColumn('mdH',hash('mdH'))\n",
    "df_final.show()"
   ]
  },
  {
   "cell_type": "markdown",
   "id": "df135aa0",
   "metadata": {},
   "source": [
    "# Write that dataframe into parquet using coalesce (1)"
   ]
  },
  {
   "cell_type": "code",
   "execution_count": 34,
   "id": "f626a78a",
   "metadata": {},
   "outputs": [
    {
     "name": "stderr",
     "output_type": "stream",
     "text": [
      "                                                                                \r"
     ]
    }
   ],
   "source": [
    "df_output=df_final.coalesce(1).write.parquet('Result')"
   ]
  },
  {
   "cell_type": "code",
   "execution_count": null,
   "id": "cfc74dc5",
   "metadata": {},
   "outputs": [],
   "source": []
  }
 ],
 "metadata": {
  "kernelspec": {
   "display_name": "Python 3",
   "language": "python",
   "name": "python3"
  },
  "language_info": {
   "codemirror_mode": {
    "name": "ipython",
    "version": 3
   },
   "file_extension": ".py",
   "mimetype": "text/x-python",
   "name": "python",
   "nbconvert_exporter": "python",
   "pygments_lexer": "ipython3",
   "version": "3.10.12"
  }
 },
 "nbformat": 4,
 "nbformat_minor": 5
}
